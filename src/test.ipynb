{
 "cells": [
  {
   "cell_type": "code",
   "execution_count": 3,
   "metadata": {},
   "outputs": [],
   "source": [
    "# # get textst from VK by vk api\n",
    "# import matplotlib.pyplot as plt\n",
    "# import pandas as pd\n",
    "# import vk_requests\n",
    "# import time\n",
    "# import random\n",
    "# import seaborn as sns\n",
    "\n",
    "\n",
    "# class MyLoader():\n",
    "\n",
    "#     def __init__(self):\n",
    "#         self.numIterations = 30\n",
    "#         token = '57506d6430f9b05657f724126d7eb556c63d11b8921b1ef88dac93236e9cf58361ffa5fff65e822669001'\n",
    "#         self.api = vk_requests.create_api(service_token=token)\n",
    "#         self.classes = {\n",
    "#             'educational': ['mirea_official', 'hse.lectorium', 'msucareer', 'bmstu1830', 'miptfpmi', 'finuniver_kf', 'nust_misis', 'gubkin.university', 'mephi_official', 'kgu_kaluga'],\n",
    "#             'other': ['kylinar_vk', 'kinopoisk', 'anecdotes', 'overhear', 'palatka_tru', 'ribalka2017', 'airsoft_rus', 'club13704425', 'f.recept', 'klgshest']\n",
    "#         }\n",
    "\n",
    "#     def loadDf(self, path):\n",
    "#         df = pd.read_csv(path)\n",
    "#         df = dropEmptyStrings(df)\n",
    "#         return df\n",
    "\n",
    "#     def getDf(self):\n",
    "#         delay = [0.34, 0.44, 0.4, 0.43, 0.5]\n",
    "#         step = 100\n",
    "#         self.educational = []\n",
    "#         self.other = []\n",
    "#         counter = 1\n",
    "#         # get walls info\n",
    "#         for key, value in self.classes.items():\n",
    "#             shift = 0\n",
    "#             buffer = []\n",
    "#             counter = 1\n",
    "#             for domain in value:\n",
    "#                 print(f'{key}: {counter}/{len(value)}')\n",
    "#                 counter += 1\n",
    "#                 for i in range(self.numIterations):\n",
    "#                     temp = self.api.wall.get(\n",
    "#                         domain=domain, count=step, offset=shift)\n",
    "#                     time.sleep(random.choice(delay))\n",
    "#                     shift += step\n",
    "#                     buffer.extend(temp['items'])\n",
    "#             if key == 'educational':\n",
    "#                 self.educational.append(buffer)\n",
    "#             elif key == 'other':\n",
    "#                 self.other.append(buffer)\n",
    "\n",
    "#         educationalText = []\n",
    "#         textLen = []\n",
    "#         for post in self.educational[0]:\n",
    "#             educationalText.append(post['text'])\n",
    "#             textLen.append(len(post['text']))\n",
    "\n",
    "#         otherText = []\n",
    "#         for post in self.other[0]:\n",
    "#             otherText.append(post['text'])\n",
    "#             textLen.append(len(post['text']))\n",
    "\n",
    "#         labelsEdu = ['educational' for i in range(len(educationalText))]\n",
    "#         labelsOther = ['other' for i in range(len(otherText))]\n",
    "\n",
    "#         # create dataframe\n",
    "#         d = {'category': labelsEdu+labelsOther,\n",
    "#              'length': textLen, 'text': educationalText+otherText}\n",
    "#         df = pd.DataFrame(data=d)\n",
    "#         df = dropEmptyStrings(df)\n",
    "#         return df\n",
    "\n",
    "\n",
    "# def dropEmptyStrings(df):\n",
    "#     df = df[df['length'] > 0]\n",
    "#     return df\n",
    "\n",
    "\n",
    "# def showGist(df):\n",
    "#     # plt.hist(df['length'], color = 'blue', edgecolor = 'black', bins = int(180/10))\n",
    "#     # plt.title('Распределение длины постов')\n",
    "#     # #plt.xlim(1000)\n",
    "#     # plt.show()\n",
    "#     sns.histplot(data=df, x='length', hue='category')\n",
    "#     plt.title('Распределение длины постов')\n",
    "#     plt.xlim(0, 5000)\n",
    "#     plt.show()\n",
    "        "
   ]
  },
  {
   "cell_type": "code",
   "execution_count": null,
   "metadata": {},
   "outputs": [],
   "source": [
    "# ml = MyLoader()\n",
    "# df = ml.getDf()"
   ]
  },
  {
   "cell_type": "code",
   "execution_count": 64,
   "metadata": {},
   "outputs": [],
   "source": [
    "# df.to_csv('data\\\\vkgroups.csv')"
   ]
  },
  {
   "cell_type": "code",
   "execution_count": 1,
   "metadata": {},
   "outputs": [
    {
     "name": "stdout",
     "output_type": "stream",
     "text": [
      "NVIDIA GeForce RTX 3060 Laptop GPU\n"
     ]
    }
   ],
   "source": [
    "'''ЗАГРУЗКА ДАННЫХ'''\n",
    "from model import*\n",
    "from dataclass import splitDf\n",
    "from loader import*\n",
    "\n",
    "ml = MyLoader()\n",
    "df = ml.loadDf('..\\data\\\\vkgroups2.csv')\n",
    "#df = ml.getDf()\n",
    "\n",
    "print(torch.cuda.get_device_name(0))\n"
   ]
  },
  {
   "cell_type": "code",
   "execution_count": 2,
   "metadata": {},
   "outputs": [],
   "source": [
    "#df.to_csv('..\\data\\\\vkgroups2.csv')"
   ]
  },
  {
   "cell_type": "code",
   "execution_count": 2,
   "metadata": {},
   "outputs": [
    {
     "data": {
      "text/plain": [
       "34019"
      ]
     },
     "execution_count": 2,
     "metadata": {},
     "output_type": "execute_result"
    }
   ],
   "source": [
    "len(df)"
   ]
  },
  {
   "cell_type": "code",
   "execution_count": 2,
   "metadata": {},
   "outputs": [
    {
     "data": {
      "image/png": "[encoded data removed]",
      "text/plain": [
       "<Figure size 432x288 with 1 Axes>"
      ]
     },
     "metadata": {
      "needs_background": "light"
     },
     "output_type": "display_data"
    }
   ],
   "source": [
    "'''ПРОСМОТР ДАННЫХ'''\n",
    "showGist(df)"
   ]
  },
  {
   "cell_type": "code",
   "execution_count": 6,
   "metadata": {},
   "outputs": [
    {
     "data": {
      "image/png": "[encoded data removed]",
      "text/plain": [
       "<Figure size 432x288 with 1 Axes>"
      ]
     },
     "metadata": {
      "needs_background": "light"
     },
     "output_type": "display_data"
    }
   ],
   "source": [
    "from copy import deepcopy\n",
    "df2 = deepcopy(df)\n",
    "df2 = df2[df2['length'] > 100]\n",
    "showGist(df2)"
   ]
  },
  {
   "cell_type": "code",
   "execution_count": 7,
   "metadata": {},
   "outputs": [
    {
     "data": {
      "image/png": "[encoded data removed]",
      "text/plain": [
       "<Figure size 432x288 with 1 Axes>"
      ]
     },
     "metadata": {
      "needs_background": "light"
     },
     "output_type": "display_data"
    }
   ],
   "source": [
    "df2 = df2[df2['length'] > 500]\n",
    "showGist(df2)"
   ]
  },
  {
   "cell_type": "code",
   "execution_count": 8,
   "metadata": {},
   "outputs": [
    {
     "data": {
      "image/png": "[encoded data removed]",
      "text/plain": [
       "<Figure size 432x288 with 1 Axes>"
      ]
     },
     "metadata": {
      "needs_background": "light"
     },
     "output_type": "display_data"
    }
   ],
   "source": [
    "df2 = df2[df2['length'] > 600]\n",
    "showGist(df2)"
   ]
  },
  {
   "cell_type": "code",
   "execution_count": 9,
   "metadata": {},
   "outputs": [
    {
     "data": {
      "text/plain": [
       "8232"
      ]
     },
     "execution_count": 9,
     "metadata": {},
     "output_type": "execute_result"
    }
   ],
   "source": [
    "len(df2)"
   ]
  },
  {
   "cell_type": "code",
   "execution_count": 6,
   "metadata": {},
   "outputs": [
    {
     "name": "stdout",
     "output_type": "stream",
     "text": [
      "6585 823 824\n"
     ]
    }
   ],
   "source": [
    "'''В результате я решил обучать BERT на данных, представленных на диаграмме выше, потому что они более равномерно распределены по длине'''\n",
    "df = df[df['length'] > 600]\n",
    "\n",
    "df_train, df_val, df_test = splitDf(df)\n",
    "print(len(df_train), len(df_val), len(df_test))"
   ]
  },
  {
   "cell_type": "code",
   "execution_count": 3,
   "metadata": {},
   "outputs": [
    {
     "name": "stderr",
     "output_type": "stream",
     "text": [
      "Some weights of the model checkpoint at DeepPavlov/rubert-base-cased were not used when initializing BertModel: ['cls.predictions.transform.LayerNorm.bias', 'cls.predictions.transform.dense.weight', 'cls.predictions.decoder.bias', 'cls.predictions.transform.dense.bias', 'cls.predictions.bias', 'cls.predictions.transform.LayerNorm.weight', 'cls.predictions.decoder.weight', 'cls.seq_relationship.bias', 'cls.seq_relationship.weight']\n",
      "- This IS expected if you are initializing BertModel from the checkpoint of a model trained on another task or with another architecture (e.g. initializing a BertForSequenceClassification model from a BertForPreTraining model).\n",
      "- This IS NOT expected if you are initializing BertModel from the checkpoint of a model that you expect to be exactly identical (initializing a BertForSequenceClassification model from a BertForSequenceClassification model).\n",
      "100%|██████████| 1647/1647 [06:09<00:00,  4.45it/s]\n"
     ]
    },
    {
     "name": "stdout",
     "output_type": "stream",
     "text": [
      "Epochs: 1 | Train Loss:  0.038                     | Train Accuracy:  0.944                     | Val Loss:  0.005                     | Val Accuracy:  0.998\n"
     ]
    }
   ],
   "source": [
    "EPOCHS = 1\n",
    "model = BertClassifier()\n",
    "LR = 1e-6\n",
    "\n",
    "model.train(model, df_train, df_val, LR, EPOCHS)"
   ]
  },
  {
   "cell_type": "code",
   "execution_count": 4,
   "metadata": {},
   "outputs": [],
   "source": [
    "torch.save(model,'../model_ru_withgrads.pth')"
   ]
  },
  {
   "cell_type": "code",
   "execution_count": 7,
   "metadata": {},
   "outputs": [],
   "source": [
    "model_test = torch.load('../model_ru_withgrads.pth')"
   ]
  },
  {
   "cell_type": "code",
   "execution_count": 6,
   "metadata": {},
   "outputs": [
    {
     "data": {
      "image/png": "[encoded data removed]",
      "text/plain": [
       "<Figure size 1280x720 with 1 Axes>"
      ]
     },
     "metadata": {
      "needs_background": "light"
     },
     "output_type": "display_data"
    }
   ],
   "source": [
    "from model import*\n",
    "model_test.showTrainingResult()"
   ]
  },
  {
   "cell_type": "code",
   "execution_count": 11,
   "metadata": {},
   "outputs": [
    {
     "data": {
      "text/plain": [
       "model.BertClassifier"
      ]
     },
     "execution_count": 11,
     "metadata": {},
     "output_type": "execute_result"
    }
   ],
   "source": [
    "type(model_test)"
   ]
  },
  {
   "cell_type": "code",
   "execution_count": 8,
   "metadata": {},
   "outputs": [
    {
     "name": "stdout",
     "output_type": "stream",
     "text": [
      "Test Accuracy:  0.999\n"
     ]
    }
   ],
   "source": [
    "#model_test.eval()\n",
    "evaluate(model_test, df_test)"
   ]
  },
  {
   "cell_type": "code",
   "execution_count": 6,
   "metadata": {},
   "outputs": [
    {
     "name": "stdout",
     "output_type": "stream",
     "text": [
      "Чтобы завершить введите 0\n",
      "Профессор технических наук\n",
      "Hmm, let me see... It is: educational\n",
      "Уха - это суп из рыбы\n",
      "Oh, i'm pretty sure that it is: other\n",
      "Карпов Даниил Денисович\n",
      "Hmm, let me see... It is: other\n",
      "Кошка\n",
      "Oh, i'm pretty sure that it is: educational\n",
      "Искуственный интеллект\n",
      "Oh, i'm pretty sure that it is: other\n",
      "Искусственный интелект\n",
      "Hmm, let me see... It is: educational\n",
      "BERT\n",
      "Oh, i'm pretty sure that it is: educational\n",
      "BERT\n",
      "Hmm, let me see... It is: educational\n"
     ]
    },
    {
     "ename": "KeyboardInterrupt",
     "evalue": "Interrupted by user",
     "output_type": "error",
     "traceback": [
      "\u001b[1;31m---------------------------------------------------------------------------\u001b[0m",
      "\u001b[1;31mKeyboardInterrupt\u001b[0m                         Traceback (most recent call last)",
      "\u001b[1;32mc:\\Study\\CISM\\BERT\\src\\test.ipynb Cell 18'\u001b[0m in \u001b[0;36m<cell line: 1>\u001b[1;34m()\u001b[0m\n\u001b[1;32m----> <a href='vscode-notebook-cell:/c%3A/Study/CISM/BERT/src/test.ipynb#ch0000017?line=0'>1</a>\u001b[0m checkInput(model_test)\n",
      "File \u001b[1;32mc:\\Study\\CISM\\BERT\\src\\model.py:173\u001b[0m, in \u001b[0;36mcheckInput\u001b[1;34m(model)\u001b[0m\n\u001b[0;32m    <a href='file:///c%3A/Study/CISM/BERT/src/model.py?line=170'>171</a>\u001b[0m \u001b[39mwhile\u001b[39;00m \u001b[39mTrue\u001b[39;00m:\n\u001b[0;32m    <a href='file:///c%3A/Study/CISM/BERT/src/model.py?line=171'>172</a>\u001b[0m     \u001b[39mwith\u001b[39;00m torch\u001b[39m.\u001b[39mno_grad():\n\u001b[1;32m--> <a href='file:///c%3A/Study/CISM/BERT/src/model.py?line=172'>173</a>\u001b[0m         userInput \u001b[39m=\u001b[39m \u001b[39minput\u001b[39;49m(\u001b[39m\"\u001b[39;49m\u001b[39mВведите тестовую строку: \u001b[39;49m\u001b[39m\"\u001b[39;49m)\n\u001b[0;32m    <a href='file:///c%3A/Study/CISM/BERT/src/model.py?line=173'>174</a>\u001b[0m         df \u001b[39m=\u001b[39m pd\n\u001b[0;32m    <a href='file:///c%3A/Study/CISM/BERT/src/model.py?line=174'>175</a>\u001b[0m         \u001b[39mif\u001b[39;00m userInput \u001b[39m==\u001b[39m \u001b[39m'\u001b[39m\u001b[39m0\u001b[39m\u001b[39m'\u001b[39m:\n",
      "File \u001b[1;32mc:\\Anaconda\\lib\\site-packages\\ipykernel\\kernelbase.py:1075\u001b[0m, in \u001b[0;36mKernel.raw_input\u001b[1;34m(self, prompt)\u001b[0m\n\u001b[0;32m   <a href='file:///c%3A/Anaconda/lib/site-packages/ipykernel/kernelbase.py?line=1070'>1071</a>\u001b[0m \u001b[39mif\u001b[39;00m \u001b[39mnot\u001b[39;00m \u001b[39mself\u001b[39m\u001b[39m.\u001b[39m_allow_stdin:\n\u001b[0;32m   <a href='file:///c%3A/Anaconda/lib/site-packages/ipykernel/kernelbase.py?line=1071'>1072</a>\u001b[0m     \u001b[39mraise\u001b[39;00m StdinNotImplementedError(\n\u001b[0;32m   <a href='file:///c%3A/Anaconda/lib/site-packages/ipykernel/kernelbase.py?line=1072'>1073</a>\u001b[0m         \u001b[39m\"\u001b[39m\u001b[39mraw_input was called, but this frontend does not support input requests.\u001b[39m\u001b[39m\"\u001b[39m\n\u001b[0;32m   <a href='file:///c%3A/Anaconda/lib/site-packages/ipykernel/kernelbase.py?line=1073'>1074</a>\u001b[0m     )\n\u001b[1;32m-> <a href='file:///c%3A/Anaconda/lib/site-packages/ipykernel/kernelbase.py?line=1074'>1075</a>\u001b[0m \u001b[39mreturn\u001b[39;00m \u001b[39mself\u001b[39;49m\u001b[39m.\u001b[39;49m_input_request(\n\u001b[0;32m   <a href='file:///c%3A/Anaconda/lib/site-packages/ipykernel/kernelbase.py?line=1075'>1076</a>\u001b[0m     \u001b[39mstr\u001b[39;49m(prompt),\n\u001b[0;32m   <a href='file:///c%3A/Anaconda/lib/site-packages/ipykernel/kernelbase.py?line=1076'>1077</a>\u001b[0m     \u001b[39mself\u001b[39;49m\u001b[39m.\u001b[39;49m_parent_ident[\u001b[39m\"\u001b[39;49m\u001b[39mshell\u001b[39;49m\u001b[39m\"\u001b[39;49m],\n\u001b[0;32m   <a href='file:///c%3A/Anaconda/lib/site-packages/ipykernel/kernelbase.py?line=1077'>1078</a>\u001b[0m     \u001b[39mself\u001b[39;49m\u001b[39m.\u001b[39;49mget_parent(\u001b[39m\"\u001b[39;49m\u001b[39mshell\u001b[39;49m\u001b[39m\"\u001b[39;49m),\n\u001b[0;32m   <a href='file:///c%3A/Anaconda/lib/site-packages/ipykernel/kernelbase.py?line=1078'>1079</a>\u001b[0m     password\u001b[39m=\u001b[39;49m\u001b[39mFalse\u001b[39;49;00m,\n\u001b[0;32m   <a href='file:///c%3A/Anaconda/lib/site-packages/ipykernel/kernelbase.py?line=1079'>1080</a>\u001b[0m )\n",
      "File \u001b[1;32mc:\\Anaconda\\lib\\site-packages\\ipykernel\\kernelbase.py:1120\u001b[0m, in \u001b[0;36mKernel._input_request\u001b[1;34m(self, prompt, ident, parent, password)\u001b[0m\n\u001b[0;32m   <a href='file:///c%3A/Anaconda/lib/site-packages/ipykernel/kernelbase.py?line=1116'>1117</a>\u001b[0m             \u001b[39mbreak\u001b[39;00m\n\u001b[0;32m   <a href='file:///c%3A/Anaconda/lib/site-packages/ipykernel/kernelbase.py?line=1117'>1118</a>\u001b[0m \u001b[39mexcept\u001b[39;00m \u001b[39mKeyboardInterrupt\u001b[39;00m:\n\u001b[0;32m   <a href='file:///c%3A/Anaconda/lib/site-packages/ipykernel/kernelbase.py?line=1118'>1119</a>\u001b[0m     \u001b[39m# re-raise KeyboardInterrupt, to truncate traceback\u001b[39;00m\n\u001b[1;32m-> <a href='file:///c%3A/Anaconda/lib/site-packages/ipykernel/kernelbase.py?line=1119'>1120</a>\u001b[0m     \u001b[39mraise\u001b[39;00m \u001b[39mKeyboardInterrupt\u001b[39;00m(\u001b[39m\"\u001b[39m\u001b[39mInterrupted by user\u001b[39m\u001b[39m\"\u001b[39m) \u001b[39mfrom\u001b[39;00m \u001b[39mNone\u001b[39m\n\u001b[0;32m   <a href='file:///c%3A/Anaconda/lib/site-packages/ipykernel/kernelbase.py?line=1120'>1121</a>\u001b[0m \u001b[39mexcept\u001b[39;00m \u001b[39mException\u001b[39;00m:\n\u001b[0;32m   <a href='file:///c%3A/Anaconda/lib/site-packages/ipykernel/kernelbase.py?line=1121'>1122</a>\u001b[0m     \u001b[39mself\u001b[39m\u001b[39m.\u001b[39mlog\u001b[39m.\u001b[39mwarning(\u001b[39m\"\u001b[39m\u001b[39mInvalid Message:\u001b[39m\u001b[39m\"\u001b[39m, exc_info\u001b[39m=\u001b[39m\u001b[39mTrue\u001b[39;00m)\n",
      "\u001b[1;31mKeyboardInterrupt\u001b[0m: Interrupted by user"
     ]
    }
   ],
   "source": [
    "checkInput(model_test)"
   ]
  },
  {
   "cell_type": "code",
   "execution_count": 17,
   "metadata": {},
   "outputs": [
    {
     "data": {
      "text/plain": [
       "'Один из самых передовых технологических вузов страны — такое место сегодня занимает РТУ МИРЭА.\\n\\nСтуденты РТУ МИРЭА готовы менять мир к лучшему и учатся работать на самых современных системах.\\n \\nРебята изучают среды виртуальной реальности, цифровое роботизированное производство, иммерсивные технологии и технологии захвата движения, мобильную робототехнику, самую современную радиоэлектронику, передовые направления \\nхимии и биотехнологии.\\n\\nВсе знания и навыки студенты оттачивают на практике, ведь РТУ МИРЭА — это десятки собственных лабораторий и мегалабораторий, более 40 базовых кафедр и свыше 300 предприятий-партнёров, на которых узнаваемы и востребованы выпускники нашего вуза. \\n\\nРебята рассказали, что им нравится в РТУ МИРЭА и почему они выбрали именно его. \\n\\nПодробности — в видео.\\n\\nОзвучил: Сергей Бурунов.\\n\\n#rtumirea'"
      ]
     },
     "execution_count": 17,
     "metadata": {},
     "output_type": "execute_result"
    }
   ],
   "source": [
    "ml.educational[0][0]['text']"
   ]
  },
  {
   "cell_type": "code",
   "execution_count": null,
   "metadata": {},
   "outputs": [],
   "source": []
  }
 ],
 "metadata": {
  "interpreter": {
   "hash": "6f5583cf1d9466b5c27e75c89cc6b383bed5736d6b16c51c8074d8690011a952"
  },
  "kernelspec": {
   "display_name": "Python 3.9.12 ('base')",
   "language": "python",
   "name": "python3"
  },
  "language_info": {
   "codemirror_mode": {
    "name": "ipython",
    "version": 3
   },
   "file_extension": ".py",
   "mimetype": "text/x-python",
   "name": "python",
   "nbconvert_exporter": "python",
   "pygments_lexer": "ipython3",
   "version": "3.9.12"
  },
  "orig_nbformat": 4
 },
 "nbformat": 4,
 "nbformat_minor": 2
}
